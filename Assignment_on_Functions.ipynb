{
  "nbformat": 4,
  "nbformat_minor": 0,
  "metadata": {
    "colab": {
      "provenance": []
    },
    "kernelspec": {
      "name": "python3",
      "display_name": "Python 3"
    },
    "language_info": {
      "name": "python"
    }
  },
  "cells": [
    {
      "cell_type": "markdown",
      "source": [
        "Define a function that accepts a number and returns whether the number is even or odd."
      ],
      "metadata": {
        "id": "SA0zwy1HTiK-"
      }
    },
    {
      "cell_type": "code",
      "source": [
        "def even_or_odd(number):\n",
        "  if number % 2 == 0:\n",
        "    return \"Even\"\n",
        "  else:\n",
        "    return \"Odd\"\n",
        "even_or_odd(7)\n"
      ],
      "metadata": {
        "id": "Me4NX1eD0yzu",
        "colab": {
          "base_uri": "https://localhost:8080/",
          "height": 36
        },
        "outputId": "a047939b-8a2c-4537-c73e-240445c4a390"
      },
      "execution_count": null,
      "outputs": [
        {
          "output_type": "execute_result",
          "data": {
            "text/plain": [
              "'Odd'"
            ],
            "application/vnd.google.colaboratory.intrinsic+json": {
              "type": "string"
            }
          },
          "metadata": {},
          "execution_count": 2
        }
      ]
    },
    {
      "cell_type": "markdown",
      "source": [
        "Define a function to create and print a list where the values are square of numbers between 1 and 30 (both included)."
      ],
      "metadata": {
        "id": "eFB9qeBSTxRd"
      }
    },
    {
      "cell_type": "code",
      "source": [
        "def squares():\n",
        "  squares_new=[]\n",
        "  for number in range(1,31):\n",
        "    squares_new.append(number**2)\n",
        "  print(squares_new)"
      ],
      "metadata": {
        "id": "GDHeu6rZ00nn"
      },
      "execution_count": null,
      "outputs": []
    },
    {
      "cell_type": "code",
      "source": [
        "def print_squares():\n",
        "  # Create an empty list\n",
        "  squares = []\n",
        "  \n",
        "  # Iterate through the range of numbers from 1 to 30\n",
        "  for number in range(1, 31):\n",
        "    # Append the square of the number to the list\n",
        "    squares.append(number ** 2)\n",
        "  \n",
        "  # Print the list\n",
        "  print(squares)\n"
      ],
      "metadata": {
        "id": "qkaE4CHfrQe4"
      },
      "execution_count": null,
      "outputs": []
    },
    {
      "cell_type": "code",
      "source": [
        "print_squares() "
      ],
      "metadata": {
        "colab": {
          "base_uri": "https://localhost:8080/"
        },
        "id": "cvRWs62Oru2v",
        "outputId": "ef353013-4a50-4071-ca07-fdd191e29500"
      },
      "execution_count": null,
      "outputs": [
        {
          "output_type": "stream",
          "name": "stdout",
          "text": [
            "[1, 4, 9, 16, 25, 36, 49, 64, 81, 100, 121, 144, 169, 196, 225, 256, 289, 324, 361, 400, 441, 484, 529, 576, 625, 676, 729, 784, 841, 900]\n"
          ]
        }
      ]
    },
    {
      "cell_type": "markdown",
      "source": [
        "Define a function that takes a list and prints a new list with no duplicate elements given in the first list."
      ],
      "metadata": {
        "id": "EWbQXeU5WpdZ"
      }
    },
    {
      "cell_type": "code",
      "source": [
        "def remove_duplicates(list):\n",
        "  new_list = []\n",
        "  for element in list:\n",
        "    if element not in new_list:\n",
        "      new_list.append(element)\n",
        "  return new_list\n",
        "\n",
        "remove_duplicates([1,56,64,55,55,45,5564,46,55])\n"
      ],
      "metadata": {
        "id": "AU_T155j025-",
        "colab": {
          "base_uri": "https://localhost:8080/"
        },
        "outputId": "5840cf5c-2f8b-4194-e253-e2f2e6d66ce2"
      },
      "execution_count": null,
      "outputs": [
        {
          "output_type": "execute_result",
          "data": {
            "text/plain": [
              "[1, 56, 64, 55, 45, 5564, 46]"
            ]
          },
          "metadata": {},
          "execution_count": 3
        }
      ]
    },
    {
      "cell_type": "markdown",
      "source": [
        "Define a function that checks whether a passed string is palindrome or not."
      ],
      "metadata": {
        "id": "aU7jXWoHW4AR"
      }
    },
    {
      "cell_type": "code",
      "source": [
        "def ispalindrome(s):\n",
        "\n",
        "  if s==s[::-1]:\n",
        "    print(s ,\"is palindrome\")\n",
        "\n",
        "  else:\n",
        "    print(s,\"is not palindrome\")"
      ],
      "metadata": {
        "id": "4pvoq28fp5xW"
      },
      "execution_count": 7,
      "outputs": []
    },
    {
      "cell_type": "code",
      "source": [
        "ispalindrome('madam')"
      ],
      "metadata": {
        "colab": {
          "base_uri": "https://localhost:8080/"
        },
        "id": "UPOVTK3JNr9d",
        "outputId": "416d0cfa-d8e6-41bc-f7bb-b98cd4e78c1c"
      },
      "execution_count": 8,
      "outputs": [
        {
          "output_type": "stream",
          "name": "stdout",
          "text": [
            "madam is palindrome\n"
          ]
        }
      ]
    },
    {
      "cell_type": "code",
      "source": [
        "ispalindrome('pavan')"
      ],
      "metadata": {
        "colab": {
          "base_uri": "https://localhost:8080/"
        },
        "id": "E2mXQNQfONLi",
        "outputId": "3d626d45-8277-4f23-d941-e4c19684c3b1"
      },
      "execution_count": 9,
      "outputs": [
        {
          "output_type": "stream",
          "name": "stdout",
          "text": [
            "pavan is not palindrome\n"
          ]
        }
      ]
    }
  ]
}