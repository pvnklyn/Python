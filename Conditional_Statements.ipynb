{
  "nbformat": 4,
  "nbformat_minor": 0,
  "metadata": {
    "colab": {
      "provenance": []
    },
    "kernelspec": {
      "name": "python3",
      "display_name": "Python 3"
    },
    "language_info": {
      "name": "python"
    }
  },
  "cells": [
    {
      "cell_type": "markdown",
      "source": [
        "Take three numbers 'x', 'y' and 'z' as input from the user and check which number is greater\n"
      ],
      "metadata": {
        "id": "AcR_27Hh5QTe"
      }
    },
    {
      "cell_type": "code",
      "source": [
        "a = int(input('Enter first number  : '))\n",
        "b = int(input('Enter second number : '))\n",
        "c = int(input('Enter third number  : '))\n",
        "if a > b and a > c:\n",
        "    print('Number a is largest')\n",
        "if b > a and b > c:\n",
        "    print('Number b is largest')\n",
        "if c > a and c > b:\n",
        "    print('Number c is largest')"
      ],
      "metadata": {
        "id": "ZqmjTxbD5QG4",
        "colab": {
          "base_uri": "https://localhost:8080/"
        },
        "outputId": "4f633436-7706-4090-da5c-c41ab4ee87f6"
      },
      "execution_count": null,
      "outputs": [
        {
          "output_type": "stream",
          "name": "stdout",
          "text": [
            "Enter first number  : 4\n",
            "Enter second number : 5\n",
            "Enter third number  : 9\n",
            "Number c is largest\n"
          ]
        }
      ]
    },
    {
      "cell_type": "markdown",
      "source": [
        "Take an alphabet as input from the user and check if the alphabet is a vowel, consonant or an exception\n",
        "\n",
        "\n",
        "Vowel - 'a','e','i','o','u'\n",
        "\n",
        "Exception - 'h', 'y'\n",
        "\n",
        "Consonant - rest other alphabets "
      ],
      "metadata": {
        "id": "QgkCsQlx4c5Y"
      }
    },
    {
      "cell_type": "code",
      "source": [
        "Alphabet=input('Enter an Alphabet:')\n",
        "if (Alphabet in 'a,e,i,o,u'):\n",
        "  print(Alphabet ,\"is Vowel\")\n",
        "elif(Alphabet in 'h,y'):\n",
        "  print(Alphabet ,'is Exception')\n",
        "else:\n",
        "  print(Alphabet ,'is consonent')"
      ],
      "metadata": {
        "id": "mTRgMPbt4dTk",
        "colab": {
          "base_uri": "https://localhost:8080/"
        },
        "outputId": "59e1e8de-bda3-4116-d4e8-d3636e86a5a9"
      },
      "execution_count": null,
      "outputs": [
        {
          "output_type": "stream",
          "name": "stdout",
          "text": [
            "Enter an Alphabet:y\n",
            "y is Exception\n"
          ]
        }
      ]
    },
    {
      "cell_type": "markdown",
      "source": [
        "Write a program to check whether a number given by a user is divisible by 2 and 3 both "
      ],
      "metadata": {
        "id": "5TqcIsuG4N4x"
      }
    },
    {
      "cell_type": "code",
      "source": [
        "num = int(input(\"enter number\"))\n",
        "if num % 6 == 0:\n",
        "    print(\"Divisible by 3 and 2\")\n",
        "elif num % 3 == 0:\n",
        "    print(\"divisible by 3 not divisible by 2\")\n",
        "elif num % 2 == 0:\n",
        "    print(\"divisible by 2 not divisible by 3\")\n",
        "else:\n",
        "    print(\"not Divisible by 2 not divisible by 3\")"
      ],
      "metadata": {
        "id": "1TobEmuY4NkT",
        "colab": {
          "base_uri": "https://localhost:8080/"
        },
        "outputId": "5d54b033-6154-451f-d67f-c7caae629f4f"
      },
      "execution_count": null,
      "outputs": [
        {
          "output_type": "stream",
          "name": "stdout",
          "text": [
            "enter number222\n",
            "Divisible by 3 and 2\n"
          ]
        }
      ]
    },
    {
      "cell_type": "markdown",
      "source": [
        "Write a program to accept the cost price  of a bike as input and display the road tax to be paid according to the following crieteria :-\n",
        "\n",
        "Cost price - 100000 Tax - 15%\n",
        "\n",
        "Cost price - between 50000 to 100000 Tax - 10%\n",
        "\n",
        "Cost price - less than 50000 Tax - 5%"
      ],
      "metadata": {
        "id": "Vl0l7eM93o-k"
      }
    },
    {
      "cell_type": "code",
      "source": [
        "cost_price=float (input('enter the cost of the bike: '))\n",
        "if cost_price > 100000:\n",
        "  tax=0.15\n",
        "elif cost_price > 50000 and cost_price <= 100000:\n",
        "  tax=0.10\n",
        "elif cost_price <= 50000:\n",
        "  tax=0.05\n",
        "road_tax=cost_price*tax\n",
        "print(road_tax,'is Road Tax')"
      ],
      "metadata": {
        "id": "TdHw-M2Z3lkL",
        "colab": {
          "base_uri": "https://localhost:8080/"
        },
        "outputId": "297a8252-ee0d-4788-9c4b-0d6cb04eea1c"
      },
      "execution_count": null,
      "outputs": [
        {
          "output_type": "stream",
          "name": "stdout",
          "text": [
            "enter the cost of the bike: 575155\n",
            "86273.25 is Road Tax\n"
          ]
        }
      ]
    },
    {
      "cell_type": "markdown",
      "source": [
        "Write a program to calculate the electricity bill by accepting the number of units consumed by the user as input. Use the following price chart for reference :-\n",
        "\n",
        "Price of first 100 units - no charge\n",
        "\n",
        "Price of next 100 units - Rs 5/- per unit\n",
        "\n",
        "After 200 units - Rs 10/- per unit"
      ],
      "metadata": {
        "id": "4qwB-dyV2vdv"
      }
    },
    {
      "cell_type": "code",
      "execution_count": null,
      "metadata": {
        "id": "9CRK7oBa2rjP"
      },
      "outputs": [],
      "source": [
        "units = int(input(\" Enter Number of Units : \")) #my code\n",
        "if (units <= 100):\n",
        "  charge = (units*0)\n",
        "  print('no charge')\n",
        "elif (units <=200):\n",
        "  charge = (100*0)+(units-100)*5\n",
        "elif (units > 200):\n",
        "  charge =  (100*0)+(200-100)*5+(units-300)*10\n",
        "total = charge\n",
        "print('\\n Total bill=%.2f'% total)\n"
      ]
    },
    {
      "cell_type": "code",
      "source": [
        "unit=int(input(\"enter the unit :\")) #\n",
        "a=100\n",
        "b2=(unit-100)*5\n",
        "b3=(unit-200)*5 + (unit-100)*5\n",
        "if unit<=a:\n",
        "  print(\"no charge\")\n",
        "elif unit<=200:\n",
        "  print(\" bill is \", b2)\n",
        "else:\n",
        "   print(\"bill is \",b3)\n"
      ],
      "metadata": {
        "id": "ur9geezQtqZC"
      },
      "execution_count": null,
      "outputs": []
    },
    {
      "cell_type": "code",
      "source": [
        "unit=int(input(\"Enter the Unit consumed \"))\n",
        "if unit<=100:\n",
        "  print(\"There is no charge for Elecricity\")\n",
        "elif 100<=unit<=200:\n",
        "  print(\"The Elecricity Bill is \", (unit-100)*5)\n",
        "else:\n",
        "  print(\"The Elecricity Bill is \", (unit-200)*10+500)\n"
      ],
      "metadata": {
        "id": "SYbLiGvqwdQL"
      },
      "execution_count": null,
      "outputs": []
    }
  ]
}