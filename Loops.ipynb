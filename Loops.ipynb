{
  "nbformat": 4,
  "nbformat_minor": 0,
  "metadata": {
    "colab": {
      "provenance": []
    },
    "kernelspec": {
      "name": "python3",
      "display_name": "Python 3"
    },
    "language_info": {
      "name": "python"
    }
  },
  "cells": [
    {
      "cell_type": "markdown",
      "source": [
        "Write a program which accepts month's name as input and display the number of days in the month as output "
      ],
      "metadata": {
        "id": "MdAkQQ_Y4wwG"
      }
    },
    {
      "cell_type": "code",
      "source": [
        "name=(input('enter month name:'))\n",
        "if name=='february':\n",
        "  print('number of days: 28 or 29')\n",
        "elif name in ( \" April \" , \" June \" , \" September \",\" November \" ) :\n",
        "  print( \" number of days : 30 days \" )\n",
        "elif name in ( \" January \" , \" March \" , \" May \" , \" July \" , \" August \" , \" October \" , \" December \" ) :\n",
        "  print( \" number of days : 31 days \" )\n",
        "else :\n",
        "  print( \" wrong input \" )\n"
      ],
      "metadata": {
        "id": "Wy7YDWmc7jML",
        "colab": {
          "base_uri": "https://localhost:8080/"
        },
        "outputId": "7c541a9a-a84c-48e7-dc50-72adb233d10f"
      },
      "execution_count": null,
      "outputs": [
        {
          "output_type": "stream",
          "name": "stdout",
          "text": [
            "enter month name:March\n",
            " wrong input \n"
          ]
        }
      ]
    },
    {
      "cell_type": "markdown",
      "source": [
        "Take any word as input from the user and count the number of vowels in the word"
      ],
      "metadata": {
        "id": "Q8cCBC198J6M"
      }
    },
    {
      "cell_type": "code",
      "source": [
        "vol=input('enter word:')\n",
        "count=0\n",
        "vowel=('a','e','i','o','u')\n",
        "for i in vol:\n",
        "  if i in vowel:\n",
        "    count=count+1\n",
        "print(count)\n",
        "\n"
      ],
      "metadata": {
        "id": "gY_oIsw88KU6",
        "colab": {
          "base_uri": "https://localhost:8080/"
        },
        "outputId": "db5bc7f4-3bb3-48df-d352-c946de0a67d9"
      },
      "execution_count": null,
      "outputs": [
        {
          "output_type": "stream",
          "name": "stdout",
          "text": [
            "enter word:hello\n",
            "2\n"
          ]
        }
      ]
    },
    {
      "cell_type": "markdown",
      "source": [
        "Write a program to separate even and odd numbers in two distinct lists from a list of numbers of your choice "
      ],
      "metadata": {
        "id": "1ugWwVXd49OI"
      }
    },
    {
      "cell_type": "code",
      "source": [
        "l=[5,6,8,2,7,58,25,16,34,29,9]\n",
        "l1=[]\n",
        "l2=[]\n",
        "for i in l:\n",
        "  if i%2==0:\n",
        "    l1.append(i)\n",
        "  else:\n",
        "    l2.append(i)\n",
        "print(l1,l2)\n",
        "  "
      ],
      "metadata": {
        "id": "dP7_bUh37i2D",
        "colab": {
          "base_uri": "https://localhost:8080/"
        },
        "outputId": "e259b228-5a63-42e1-a1f2-61ef5ff45119"
      },
      "execution_count": null,
      "outputs": [
        {
          "output_type": "stream",
          "name": "stdout",
          "text": [
            "[6, 8, 2, 58, 16, 34] [5, 7, 25, 29, 9]\n"
          ]
        }
      ]
    },
    {
      "cell_type": "markdown",
      "source": [
        "Write a program that appends datatype of elements from a list to a separate list"
      ],
      "metadata": {
        "id": "uaqnGrhs49Mf"
      }
    },
    {
      "cell_type": "code",
      "source": [
        "list1=['india','canada',5,-5,5.55]\n",
        "list2=[]\n",
        "for i in list1:\n",
        "\n",
        "  list2.append(type(i))\n",
        "print(list2)"
      ],
      "metadata": {
        "id": "RH9DVuFT7ibC",
        "colab": {
          "base_uri": "https://localhost:8080/"
        },
        "outputId": "2a9bef96-414e-4a54-a92e-aa042d6f0468"
      },
      "execution_count": null,
      "outputs": [
        {
          "output_type": "stream",
          "name": "stdout",
          "text": [
            "[<class 'str'>, <class 'str'>, <class 'int'>, <class 'int'>, <class 'float'>]\n"
          ]
        }
      ]
    },
    {
      "cell_type": "markdown",
      "source": [
        "Take a number as input from the user and find its factorial"
      ],
      "metadata": {
        "id": "qhUdGd6s4837"
      }
    },
    {
      "cell_type": "code",
      "source": [
        "num=int(input('enter number:'))\n",
        "fac=1\n",
        "if num<0:\n",
        "  print('factorial of -ve numbers is not possible')\n",
        "elif num==0:\n",
        "  print('factorial of 0 is 1')\n",
        "else:\n",
        "  for i in range(1,num+1):\n",
        "      fac=fac*i\n",
        "  print('factorial of ', num,'is',fac)\n",
        "\n"
      ],
      "metadata": {
        "id": "ga1yDKM87iJa",
        "colab": {
          "base_uri": "https://localhost:8080/"
        },
        "outputId": "79c165be-aff7-4603-ba42-7874c8258163"
      },
      "execution_count": null,
      "outputs": [
        {
          "output_type": "stream",
          "name": "stdout",
          "text": [
            "enter number:5\n",
            "factorial of  5 is 120\n"
          ]
        }
      ]
    },
    {
      "cell_type": "markdown",
      "source": [
        "Write a program to display only those numbers from a list that satisfies the following conditions:\n",
        "\n",
        "1. The number must be divisible by 7\n",
        "\n",
        "2. If the number is greater than 140 then skip it and move to the next number in the list\n",
        "\n",
        "3. If the number in the list is greater than 630 then stop the loop"
      ],
      "metadata": {
        "id": "ddMu0Pj1643Y"
      }
    },
    {
      "cell_type": "code",
      "execution_count": null,
      "metadata": {
        "id": "QxFeRtW34rJV",
        "colab": {
          "base_uri": "https://localhost:8080/"
        },
        "outputId": "427e0874-bc98-46bd-824f-73c3ef92a1d2"
      },
      "outputs": [
        {
          "output_type": "stream",
          "name": "stdout",
          "text": [
            "7\n",
            "77\n"
          ]
        }
      ],
      "source": [
        "list=[7,77,72,57,857,25,65]\n",
        "for i in list:\n",
        "  if i%7==0:\n",
        "    print(i)\n",
        "  elif i==140:\n",
        "    continue\n",
        "  elif i>630:\n",
        "    break"
      ]
    }
  ]
}